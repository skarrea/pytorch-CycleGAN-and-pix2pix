{
 "metadata": {
  "language_info": {
   "codemirror_mode": {
    "name": "ipython",
    "version": 3
   },
   "file_extension": ".py",
   "mimetype": "text/x-python",
   "name": "python",
   "nbconvert_exporter": "python",
   "pygments_lexer": "ipython3",
   "version": "3.7.6-final"
  },
  "orig_nbformat": 2,
  "kernelspec": {
   "name": "python3",
   "display_name": "Python 3",
   "language": "python"
  }
 },
 "nbformat": 4,
 "nbformat_minor": 2,
 "cells": [
  {
   "cell_type": "code",
   "execution_count": 20,
   "metadata": {},
   "outputs": [],
   "source": [
    "import matplotlib.pyplot as plt\n",
    "import cv2\n",
    "import numpy as np\n",
    "import glob\n",
    "from skimage.metrics import mean_squared_error"
   ]
  },
  {
   "cell_type": "code",
   "execution_count": 18,
   "metadata": {},
   "outputs": [],
   "source": [
    "resultsDir = './results/'\n",
    "dataset = 'DXIN_DXOPP_4CUMAP_combined'\n",
    "name = 'experiment_name'\n",
    "epoch = 'test_latest'\n",
    "\n",
    "imageDir = os.path.join(resultsDir, *[dataset, name, epoch, 'images'])\n",
    "\n",
    "generatedImage = 'B'\n",
    "\n",
    "fake_imgs = glob.glob(imageDir + f'/*fake_{generatedImage}*.png')\n",
    "real_imgs = glob.glob(imageDir + f'/*real_{generatedImage}*.png')\n",
    "fake_imgs.sort()\n",
    "real_imgs.sort()"
   ]
  },
  {
   "cell_type": "code",
   "execution_count": 19,
   "metadata": {},
   "outputs": [
    {
     "output_type": "execute_result",
     "data": {
      "text/plain": [
       "('./results/DXIN_DXOPP_4CUMAP_combined/experiment_name/test_latest/images/2_011_0_fake_B.png',\n",
       " './results/DXIN_DXOPP_4CUMAP_combined/experiment_name/test_latest/images/2_011_0_real_B.png')"
      ]
     },
     "metadata": {},
     "execution_count": 19
    }
   ],
   "source": [
    "fake_imgs[0], real_imgs[0]"
   ]
  },
  {
   "cell_type": "code",
   "execution_count": 26,
   "metadata": {},
   "outputs": [
    {
     "output_type": "execute_result",
     "data": {
      "text/plain": [
       "1.8016815185546875"
      ]
     },
     "metadata": {},
     "execution_count": 26
    }
   ],
   "source": [
    "mean_squared_error(cv2.imread(fake_imgs[4]), cv2.imread(real_imgs[4]))"
   ]
  }
 ]
}